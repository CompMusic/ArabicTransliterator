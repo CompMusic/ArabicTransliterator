{
 "cells": [
  {
   "cell_type": "markdown",
   "metadata": {},
   "source": [
    "# Arabic Transliteration \n",
    "This notebook demonstrates a use example of the Arabic Transliterator module compiled by the MTG. Please download and install the latest module version. The phrase used here are very short and are just for demonstration. For a more complicated use-case of the module invoving the transliteration of structured tsv files, please refer to the sanaa transliteration notebooks of the https://github.com/MTG/arab-andalusian-music/tree/master/sanaa_lyrics/transliteration_guide\n",
    "\n",
    "## Description\n",
    "This module reads phrases from a csv file column and creates another file with the transliterations. \n",
    "Original and transliterated versions of the phrases are displayed side by side.\n",
    "Phrases must NOT contain numbers"
   ]
  },
  {
   "cell_type": "code",
   "execution_count": 17,
   "metadata": {},
   "outputs": [],
   "source": [
    "import sys, os, glob, json, codecs, platform\n",
    "import ArabicTransliterator\n",
    "from ALA_LC_Transliterator import ALA_LC_Transliterator\n",
    "import mishkal.tashkeel.tashkeel as tashkeel\n",
    "import pandas as pd\n",
    "from IPython.display import display, HTML"
   ]
  },
  {
   "cell_type": "code",
   "execution_count": 14,
   "metadata": {},
   "outputs": [],
   "source": [
    "inputfile = 'phrases.csv'\n",
    "outputfile = 'phrases_transliterated.csv'"
   ]
  },
  {
   "cell_type": "code",
   "execution_count": 8,
   "metadata": {},
   "outputs": [],
   "source": [
    "transliterator = ALA_LC_Transliterator()"
   ]
  },
  {
   "cell_type": "code",
   "execution_count": 18,
   "metadata": {},
   "outputs": [],
   "source": [
    "def transliterate(text, vocalize=True):\n",
    "        #print_reshape(text)\n",
    "        voc = text\n",
    "        if vocalize:\n",
    "                vocalizer=tashkeel.TashkeelClass()\n",
    "                voc = vocalizer.tashkeel(text)\n",
    "        #print_reshape(voc)\n",
    "        return transliterator.do(voc.strip())"
   ]
  },
  {
   "cell_type": "code",
   "execution_count": 16,
   "metadata": {},
   "outputs": [
    {
     "data": {
      "text/html": [
       "<div>\n",
       "<style scoped>\n",
       "    .dataframe tbody tr th:only-of-type {\n",
       "        vertical-align: middle;\n",
       "    }\n",
       "\n",
       "    .dataframe tbody tr th {\n",
       "        vertical-align: top;\n",
       "    }\n",
       "\n",
       "    .dataframe thead th {\n",
       "        text-align: right;\n",
       "    }\n",
       "</style>\n",
       "<table border=\"1\" class=\"dataframe\">\n",
       "  <thead>\n",
       "    <tr style=\"text-align: right;\">\n",
       "      <th></th>\n",
       "      <th>phrase</th>\n",
       "    </tr>\n",
       "  </thead>\n",
       "  <tbody>\n",
       "    <tr>\n",
       "      <th>0</th>\n",
       "      <td>إذا كنت ذا عشق ووجد ورقة</td>\n",
       "    </tr>\n",
       "    <tr>\n",
       "      <th>1</th>\n",
       "      <td>فنغمته تحيي النفوس وتشتفي</td>\n",
       "    </tr>\n",
       "    <tr>\n",
       "      <th>2</th>\n",
       "      <td>قُلْتُ أَهَذَا وَلَيْسَ يَكْفِي</td>\n",
       "    </tr>\n",
       "    <tr>\n",
       "      <th>3</th>\n",
       "      <td>يا من على طيف الخيال أحالني</td>\n",
       "    </tr>\n",
       "  </tbody>\n",
       "</table>\n",
       "</div>"
      ],
      "text/plain": [
       "                            phrase\n",
       "0         إذا كنت ذا عشق ووجد ورقة\n",
       "1        فنغمته تحيي النفوس وتشتفي\n",
       "2  قُلْتُ أَهَذَا وَلَيْسَ يَكْفِي\n",
       "3      يا من على طيف الخيال أحالني"
      ]
     },
     "metadata": {},
     "output_type": "display_data"
    }
   ],
   "source": [
    "inputdf = pd.read_csv(inputfile)\n",
    "outputdf = pd.DataFrame(columns = ['transliterated_phrases'])\n",
    "display(inputdf)"
   ]
  },
  {
   "cell_type": "code",
   "execution_count": 19,
   "metadata": {},
   "outputs": [],
   "source": [
    "outputdf = pd.DataFrame()\n",
    "for i, row in inputdf.iterrows():\n",
    "    for elem in row: \n",
    "        t = transliterate(elem.strip(), vocalize=True)\n",
    "        t_df = pd.DataFrame({'transliterated_phrases' : [t]}, index=[i])\n",
    "        outputdf = outputdf.append(t_df)"
   ]
  },
  {
   "cell_type": "code",
   "execution_count": 20,
   "metadata": {},
   "outputs": [
    {
     "data": {
      "text/html": [
       "<div>\n",
       "<style scoped>\n",
       "    .dataframe tbody tr th:only-of-type {\n",
       "        vertical-align: middle;\n",
       "    }\n",
       "\n",
       "    .dataframe tbody tr th {\n",
       "        vertical-align: top;\n",
       "    }\n",
       "\n",
       "    .dataframe thead th {\n",
       "        text-align: right;\n",
       "    }\n",
       "</style>\n",
       "<table border=\"1\" class=\"dataframe\">\n",
       "  <thead>\n",
       "    <tr style=\"text-align: right;\">\n",
       "      <th></th>\n",
       "      <th>phrase</th>\n",
       "    </tr>\n",
       "  </thead>\n",
       "  <tbody>\n",
       "    <tr>\n",
       "      <th>0</th>\n",
       "      <td>إذا كنت ذا عشق ووجد ورقة</td>\n",
       "    </tr>\n",
       "    <tr>\n",
       "      <th>1</th>\n",
       "      <td>فنغمته تحيي النفوس وتشتفي</td>\n",
       "    </tr>\n",
       "    <tr>\n",
       "      <th>2</th>\n",
       "      <td>قُلْتُ أَهَذَا وَلَيْسَ يَكْفِي</td>\n",
       "    </tr>\n",
       "    <tr>\n",
       "      <th>3</th>\n",
       "      <td>يا من على طيف الخيال أحالني</td>\n",
       "    </tr>\n",
       "  </tbody>\n",
       "</table>\n",
       "</div>"
      ],
      "text/plain": [
       "                            phrase\n",
       "0         إذا كنت ذا عشق ووجد ورقة\n",
       "1        فنغمته تحيي النفوس وتشتفي\n",
       "2  قُلْتُ أَهَذَا وَلَيْسَ يَكْفِي\n",
       "3      يا من على طيف الخيال أحالني"
      ]
     },
     "metadata": {},
     "output_type": "display_data"
    },
    {
     "data": {
      "text/html": [
       "<div>\n",
       "<style scoped>\n",
       "    .dataframe tbody tr th:only-of-type {\n",
       "        vertical-align: middle;\n",
       "    }\n",
       "\n",
       "    .dataframe tbody tr th {\n",
       "        vertical-align: top;\n",
       "    }\n",
       "\n",
       "    .dataframe thead th {\n",
       "        text-align: right;\n",
       "    }\n",
       "</style>\n",
       "<table border=\"1\" class=\"dataframe\">\n",
       "  <thead>\n",
       "    <tr style=\"text-align: right;\">\n",
       "      <th></th>\n",
       "      <th>transliterated_phrases</th>\n",
       "    </tr>\n",
       "  </thead>\n",
       "  <tbody>\n",
       "    <tr>\n",
       "      <th>0</th>\n",
       "      <td>idhā kannat dhā ‘ishqun wawujid wariqah</td>\n",
       "    </tr>\n",
       "    <tr>\n",
       "      <th>1</th>\n",
       "      <td>fanaghmatuh tuḥayyī al-nufūs watashtaffī</td>\n",
       "    </tr>\n",
       "    <tr>\n",
       "      <th>2</th>\n",
       "      <td>qult ahadhā walays yakfī</td>\n",
       "    </tr>\n",
       "    <tr>\n",
       "      <th>3</th>\n",
       "      <td>yā man ‘alá ṭayf al-khayāl aḥālanī</td>\n",
       "    </tr>\n",
       "  </tbody>\n",
       "</table>\n",
       "</div>"
      ],
      "text/plain": [
       "                     transliterated_phrases\n",
       "0   idhā kannat dhā ‘ishqun wawujid wariqah\n",
       "1  fanaghmatuh tuḥayyī al-nufūs watashtaffī\n",
       "2                  qult ahadhā walays yakfī\n",
       "3        yā man ‘alá ṭayf al-khayāl aḥālanī"
      ]
     },
     "metadata": {},
     "output_type": "display_data"
    }
   ],
   "source": [
    "display(inputdf)\n",
    "display(outputdf)"
   ]
  },
  {
   "cell_type": "code",
   "execution_count": 21,
   "metadata": {},
   "outputs": [
    {
     "data": {
      "text/html": [
       "<div>\n",
       "<style scoped>\n",
       "    .dataframe tbody tr th:only-of-type {\n",
       "        vertical-align: middle;\n",
       "    }\n",
       "\n",
       "    .dataframe tbody tr th {\n",
       "        vertical-align: top;\n",
       "    }\n",
       "\n",
       "    .dataframe thead th {\n",
       "        text-align: right;\n",
       "    }\n",
       "</style>\n",
       "<table border=\"1\" class=\"dataframe\">\n",
       "  <thead>\n",
       "    <tr style=\"text-align: right;\">\n",
       "      <th></th>\n",
       "      <th>phrase</th>\n",
       "      <th>transliterated_phrases</th>\n",
       "    </tr>\n",
       "  </thead>\n",
       "  <tbody>\n",
       "    <tr>\n",
       "      <th>0</th>\n",
       "      <td>إذا كنت ذا عشق ووجد ورقة</td>\n",
       "      <td>idhā kannat dhā ‘ishqun wawujid wariqah</td>\n",
       "    </tr>\n",
       "    <tr>\n",
       "      <th>1</th>\n",
       "      <td>فنغمته تحيي النفوس وتشتفي</td>\n",
       "      <td>fanaghmatuh tuḥayyī al-nufūs watashtaffī</td>\n",
       "    </tr>\n",
       "    <tr>\n",
       "      <th>2</th>\n",
       "      <td>قُلْتُ أَهَذَا وَلَيْسَ يَكْفِي</td>\n",
       "      <td>qult ahadhā walays yakfī</td>\n",
       "    </tr>\n",
       "    <tr>\n",
       "      <th>3</th>\n",
       "      <td>يا من على طيف الخيال أحالني</td>\n",
       "      <td>yā man ‘alá ṭayf al-khayāl aḥālanī</td>\n",
       "    </tr>\n",
       "  </tbody>\n",
       "</table>\n",
       "</div>"
      ],
      "text/plain": [
       "                            phrase                    transliterated_phrases\n",
       "0         إذا كنت ذا عشق ووجد ورقة   idhā kannat dhā ‘ishqun wawujid wariqah\n",
       "1        فنغمته تحيي النفوس وتشتفي  fanaghmatuh tuḥayyī al-nufūs watashtaffī\n",
       "2  قُلْتُ أَهَذَا وَلَيْسَ يَكْفِي                  qult ahadhā walays yakfī\n",
       "3      يا من على طيف الخيال أحالني        yā man ‘alá ṭayf al-khayāl aḥālanī"
      ]
     },
     "metadata": {},
     "output_type": "display_data"
    }
   ],
   "source": [
    "d = pd.concat([inputdf, outputdf], axis=1)\n",
    "display(d)"
   ]
  }
 ],
 "metadata": {
  "kernelspec": {
   "display_name": "Python 3",
   "language": "python",
   "name": "python3"
  },
  "language_info": {
   "codemirror_mode": {
    "name": "ipython",
    "version": 3
   },
   "file_extension": ".py",
   "mimetype": "text/x-python",
   "name": "python",
   "nbconvert_exporter": "python",
   "pygments_lexer": "ipython3",
   "version": "3.7.2"
  }
 },
 "nbformat": 4,
 "nbformat_minor": 2
}
